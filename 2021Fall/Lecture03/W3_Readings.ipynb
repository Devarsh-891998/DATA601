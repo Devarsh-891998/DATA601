{
  "nbformat": 4,
  "nbformat_minor": 0,
  "metadata": {
    "colab": {
      "name": "Readings.ipynb",
      "provenance": [],
      "collapsed_sections": []
    },
    "kernelspec": {
      "name": "python3",
      "display_name": "Python 3"
    },
    "language_info": {
      "name": "python"
    }
  },
  "cells": [
    {
      "cell_type": "markdown",
      "metadata": {
        "id": "iajU7CSOJcY4"
      },
      "source": [
        "[matplotlib tutorial](https://matplotlib.org/stable/tutorials/introductory/usage.html#sphx-glr-tutorials-introductory-usage-py): Read sections:\n",
        "\n",
        "- A simple example\n",
        "\n",
        "- Parts of a figure: Figure, Axes, Axis\n",
        "\n",
        "- The object-oriented interface and the pyplot interface\n",
        "\n",
        "\n",
        "Ask the following questions to yourselves as you are reading:\n",
        "\n",
        "- What is a figure in matplotlib?\n",
        "\n",
        "- What is Axes and how is it related to the Figure?\n",
        "\n",
        "- Can a figure have multiple axes in it?\n",
        "\n",
        "- Can an axis belong to multiple figures?\n",
        "\n",
        "- How can you define multiple axes with plt interface?\n",
        "\n",
        "- What are the elements of Axes object? What can you do with them?\n",
        "\n",
        "- When do they recommend to use pyplot interface?\n"
      ]
    },
    {
      "cell_type": "markdown",
      "metadata": {
        "id": "sYMpkTj9EveS"
      },
      "source": [
        "[Visualizing distributions: Histograms and density plots](https://clauswilke.com/dataviz/histograms-density-plots.html)\n",
        "\n",
        "Ask the following questions as you are reading:\n",
        "\n",
        "- On what factor does the exact appearence of the histograms depend?\n",
        "- What happens if you choose the bi width too small or too big?\n",
        "- According to the article why density plots were not very feasible before? Which developments allowed the use of density plots more easily?\n",
        "- In density plots what is the important factors that impacts the final appearance of the plot?\n",
        "- What are the possible problems with stacked histograms?\n",
        "- What is the advantage of using stacked density plots compared to stacked histograms?\n",
        "- What are the better alternatives to stacked density and histograms when we want to visualize more than one distributions?"
      ]
    },
    {
      "cell_type": "markdown",
      "metadata": {
        "id": "oWZyg8ix_xMN"
      },
      "source": [
        "[Graphics Lies, Misleading Figures - Cairo](https://drive.google.com/file/d/1qDjIz36l8IgF3icHsZkWH56SNhD0wyww/view?usp=sharing)\n",
        "\n",
        "Ask the following questions to yourselves as you are reading:\n",
        "\n",
        "- According to Wainer, what are the three strategies to become `a good liar`\n",
        "\n",
        "- Explain the strategy of hiding relevant data.\n",
        "\n",
        "- Explain the strategy of displaying too much data to obscure reality.\n",
        "\n",
        "- Explain the strategy of using the strategy of distorting the data.\n",
        "\n",
        "- In addition to the scarcity of honest communicators, what are the other problems we are facing in terms of evidence-driven visual commnunication?\n"
      ]
    }
  ]
}