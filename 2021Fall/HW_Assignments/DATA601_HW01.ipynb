{
 "cells": [
  {
   "cell_type": "markdown",
   "metadata": {},
   "source": [
    "## DATA 601 - FALL 2021\n",
    "### Homework Assignment 1\n",
    "\n",
    "0. Install \"names\" module with the following command <br>\n",
    "<code>pip install names <br>\n",
    "import names\n",
    "</code> \n",
    "\n",
    "1. [<span style=\"color: red;\">5 points</span>] After successful installation, use the \"get_first_name\" function in the \"names\" module and create a list of 8 first-names. Name of this list should be \"fname\". Print \"fname\" after each change you make below.\n",
    "- (i) Remove the last \"first-name\" from your \"fname\" list. \n",
    "- (ii) Insert a new first-name between the first and second first-names in the list. \n",
    "- (iii) Remove the third \"first-name\". \n",
    "- (iv)  Add three first names at the end of your \"fname\" list using the \"append\" command.\n",
    "- (v) Remove those last three first names. Create a secondary a list of first-names with three new first-names. Add these three at the end of your \"fname\" list with the \"extend\" method. Comment when we should use \"append\" and we should use \"extend\".\n",
    "\n",
    "2. [<span style=\"color: red;\">1 points</span>] Use the \"get_last_name\" function in the \"names\" module and create a list of 10 last names. Name it \"lnames\". Sort it alphabetically.\n",
    "\n",
    "3. [<span style=\"color: red;\">4 points</span>] For this step, you will use the \"randint\" function from the \"random\" module to create random integers.\n",
    " - (i) Create 10 random birth-years between 1950 and 2021. Name it \"byears\".\n",
    " - (ii) Create 10 random birth-months between 1 and 12. Name it \"bmonths\".\n",
    " - (iii) Create 10 random birth-days between 1 and 31. Name it \"bdays\". Replace the random integer if it is not realistic, according to \"bmonths\" (e.g. February 29, June 31, etc).\n",
    " - (iv) Create 10 random Credit-Scores between 100 and 800. Create a list of \"CreditApproval\" with \"Yes\" if the credit-score is higher than 650, \"No\" otherwise. Make sure that someone can't get a credit if they are 17 years old or younger, even if their credit-score is higher than 650.\n",
    "\n",
    "4. [<span style=\"color: red;\">3 points</span>] Create a dictionary for these 10 people with first-name, last-name, birth-year, birth-month, birth-day, CreditApproval (e.g. [fname: Michael, lname: Jackson, byear: 1958, bmonth: 8, bday: 29, creditapproval:yes],[...])\n",
    "\n",
    "5. [<span style=\"color: red;\">7 points</span>] Save this dictionary as a csv file. The name of this csv file should start your first name, e.g. Ergun_HW1.csv. Then open and read this csv file using csv module's reader function."
   ]
  }
 ],
 "metadata": {
  "kernelspec": {
   "display_name": "Python 3",
   "language": "python",
   "name": "python3"
  },
  "language_info": {
   "codemirror_mode": {
    "name": "ipython",
    "version": 3
   },
   "file_extension": ".py",
   "mimetype": "text/x-python",
   "name": "python",
   "nbconvert_exporter": "python",
   "pygments_lexer": "ipython3",
   "version": "3.8.8"
  }
 },
 "nbformat": 4,
 "nbformat_minor": 4
}
