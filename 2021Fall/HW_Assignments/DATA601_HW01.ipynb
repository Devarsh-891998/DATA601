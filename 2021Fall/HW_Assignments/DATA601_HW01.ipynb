{
 "cells": [
  {
   "cell_type": "markdown",
   "metadata": {},
   "source": [
    "## DATA 601 - FALL 2021\n",
    "### Homework Assignment 1\n",
    "\n",
    "0. Install \"names\" module with the following command\n",
    "!pip install names\n",
    "\n",
    "1. [<span style=\"color: red;\">5 points</span>] After successful installation, use the \"get_first_name\" function in the \"names\" module and create a list of 8 first-names. Name of this list should be \"fname\". \n",
    "- (i) Remove the last \"first-name\" from your \"fname\" list. \n",
    "- (ii) Insert a new first-name between the first and second first-names in the list. \n",
    "- (iii) Remove the third \"first-name\". \n",
    "- (iv)  Add three first names at the end of your \"fname\" list using the \"append\" command.\n",
    "- (v) Remove those last three first names. Create a secondary a list of first-names with three new first-names. Add these three at the end of your \"fname\" list with the \"extend\" method. Comment when we should use \"append\" and we should use \"extend\".\n",
    "\n",
    "2. [<span style=\"color: red;\">1 points</span>] Use the \"get_last_name\" function in the \"names\" module and create a list of 10 last names. Name it \"lnames\". Sort it alphabetically.\n",
    "\n",
    "3. [<span style=\"color: red;\">4 points</span>] For this step, you will use the \"randint\" function from the \"random\" module to create random integers.\n",
    " - (i) Create 10 random birth-years between 1950 and 2021. Name it \"byears\".\n",
    " - (ii) Create 10 random birth-months between 1 and 12. Name it \"bmonths\".\n",
    " - (iii) Create 10 random birth-days between 1 and 31. Name it \"bdays\". Replace the random integer if it is not realistic, according to \"bmonths\" (e.g. February 29, June 31, etc).\n",
    " - (iv) Create 10 random Credit-Scores between 100 and 800. Create a list of \"CreditApproval\" with \"Yes\" if the credit-score is higher than 650, \"No\" otherwise. Make sure that someone can't get a credit if they are 17 years old or younger, even if their credit-score is higher than 650.\n",
    "\n",
    "4. [<span style=\"color: red;\">3 points</span>] Create a dictionary for these 10 people with first-name, last-name, birth-year, birth-month, birth-day, CreditApproval (e.g. [fname: Michael, lname: Jackson, byear: 1958, bmonth: 8, bday: 29, creditapproval:yes],[...])\n",
    "\n",
    "5. [<span style=\"color: red;\">7 points</span>] Save this dictionary as a csv file. The name of this csv file should start your first name, e.g. Ergun_HW1.csv. Then open and read this csv file using csv module's reader function."
   ]
  },
  {
   "cell_type": "markdown",
   "metadata": {},
   "source": [
    "# SOLUTION MANUAL  "
   ]
  },
  {
   "cell_type": "code",
   "execution_count": 1,
   "metadata": {},
   "outputs": [
    {
     "name": "stdout",
     "output_type": "stream",
     "text": [
      "Requirement already satisfied: names in /Users/ergunsimsek/opt/anaconda3/lib/python3.8/site-packages (0.3.0)\n"
     ]
    }
   ],
   "source": [
    "!pip install names\n",
    "import names"
   ]
  },
  {
   "cell_type": "markdown",
   "metadata": {},
   "source": [
    "## PART 1"
   ]
  },
  {
   "cell_type": "code",
   "execution_count": 2,
   "metadata": {},
   "outputs": [
    {
     "name": "stdout",
     "output_type": "stream",
     "text": [
      "['Stephen', 'Reginald', 'Jesse', 'Erika', 'Leah', 'Nathan', 'Penny', 'Kenneth']\n"
     ]
    }
   ],
   "source": [
    "fnames = []\n",
    "for i in range(8):\n",
    "    fnames.append(names.get_first_name())\n",
    "print(fnames)"
   ]
  },
  {
   "cell_type": "code",
   "execution_count": 3,
   "metadata": {},
   "outputs": [
    {
     "name": "stdout",
     "output_type": "stream",
     "text": [
      "['Stephen', 'Reginald', 'Jesse', 'Erika', 'Leah', 'Nathan', 'Penny']\n"
     ]
    }
   ],
   "source": [
    "fnames.pop(-1)\n",
    "print(fnames)"
   ]
  },
  {
   "cell_type": "code",
   "execution_count": 4,
   "metadata": {},
   "outputs": [
    {
     "name": "stdout",
     "output_type": "stream",
     "text": [
      "['Stephen', 'Billy', 'Reginald', 'Jesse', 'Erika', 'Leah', 'Nathan', 'Penny']\n"
     ]
    }
   ],
   "source": [
    "fnames.insert(1,names.get_first_name())\n",
    "print(fnames)"
   ]
  },
  {
   "cell_type": "code",
   "execution_count": 5,
   "metadata": {},
   "outputs": [
    {
     "name": "stdout",
     "output_type": "stream",
     "text": [
      "['Stephen', 'Billy', 'Jesse', 'Erika', 'Leah', 'Nathan', 'Penny']\n"
     ]
    }
   ],
   "source": [
    "fnames.pop(2)\n",
    "print(fnames)"
   ]
  },
  {
   "cell_type": "code",
   "execution_count": 6,
   "metadata": {},
   "outputs": [
    {
     "name": "stdout",
     "output_type": "stream",
     "text": [
      "['Lillian', 'Richard', 'Gary']\n"
     ]
    }
   ],
   "source": [
    "fnames2 = []\n",
    "for i in range(3):\n",
    "    fnames2.append(names.get_first_name())\n",
    "print(fnames2)"
   ]
  },
  {
   "cell_type": "code",
   "execution_count": 7,
   "metadata": {},
   "outputs": [
    {
     "name": "stdout",
     "output_type": "stream",
     "text": [
      "['Stephen', 'Billy', 'Jesse', 'Erika', 'Leah', 'Nathan', 'Penny', 'Lillian', 'Richard', 'Gary']\n"
     ]
    }
   ],
   "source": [
    "for i in fnames2:\n",
    "    fnames.append(i)\n",
    "print(fnames)"
   ]
  },
  {
   "cell_type": "code",
   "execution_count": 8,
   "metadata": {},
   "outputs": [
    {
     "name": "stdout",
     "output_type": "stream",
     "text": [
      "['Stephen', 'Billy', 'Jesse', 'Erika', 'Leah', 'Nathan', 'Penny']\n"
     ]
    }
   ],
   "source": [
    "for i in range(3):\n",
    "    fnames.pop()\n",
    "print(fnames)"
   ]
  },
  {
   "cell_type": "code",
   "execution_count": 9,
   "metadata": {},
   "outputs": [
    {
     "name": "stdout",
     "output_type": "stream",
     "text": [
      "['Stephen', 'Billy', 'Jesse', 'Erika', 'Leah', 'Nathan', 'Penny', 'Lillian', 'Richard', 'Gary']\n"
     ]
    }
   ],
   "source": [
    "fnames.extend(fnames2)\n",
    "print(fnames)"
   ]
  },
  {
   "cell_type": "markdown",
   "metadata": {},
   "source": [
    "## PART 2"
   ]
  },
  {
   "cell_type": "code",
   "execution_count": 10,
   "metadata": {},
   "outputs": [
    {
     "name": "stdout",
     "output_type": "stream",
     "text": [
      "['Clark', 'Blackwell', 'Vieira', 'Donegan', 'Stark', 'Barras', 'Kyle', 'Mcnamara', 'Moss', 'Jordan']\n"
     ]
    }
   ],
   "source": [
    "lnames = []\n",
    "for i in range(10):\n",
    "    lnames.append(names.get_last_name())\n",
    "print(lnames)"
   ]
  },
  {
   "cell_type": "code",
   "execution_count": 11,
   "metadata": {},
   "outputs": [
    {
     "name": "stdout",
     "output_type": "stream",
     "text": [
      "['Barras', 'Blackwell', 'Clark', 'Donegan', 'Jordan', 'Kyle', 'Mcnamara', 'Moss', 'Stark', 'Vieira']\n"
     ]
    }
   ],
   "source": [
    "lnames.sort()\n",
    "print(lnames)"
   ]
  },
  {
   "cell_type": "markdown",
   "metadata": {},
   "source": [
    "# Part 3"
   ]
  },
  {
   "cell_type": "code",
   "execution_count": 12,
   "metadata": {},
   "outputs": [],
   "source": [
    "from random import randint"
   ]
  },
  {
   "cell_type": "code",
   "execution_count": 13,
   "metadata": {},
   "outputs": [
    {
     "name": "stdout",
     "output_type": "stream",
     "text": [
      "[1951, 1995, 1966, 1957, 1962, 1954, 1959, 2005, 2013, 1963]\n"
     ]
    }
   ],
   "source": [
    "byears = []\n",
    "for i in range(10):\n",
    "    byears.append(randint(1950,2022))\n",
    "print(byears)"
   ]
  },
  {
   "cell_type": "code",
   "execution_count": 22,
   "metadata": {},
   "outputs": [
    {
     "name": "stdout",
     "output_type": "stream",
     "text": [
      "[6, 4, 11, 3, 1, 11, 11, 12, 8, 2]\n"
     ]
    }
   ],
   "source": [
    "bmonths = []\n",
    "for i in range(10):\n",
    "    bmonths.append(randint(1,12))\n",
    "print(bmonths)"
   ]
  },
  {
   "cell_type": "code",
   "execution_count": 15,
   "metadata": {},
   "outputs": [
    {
     "name": "stdout",
     "output_type": "stream",
     "text": [
      "0 3 29\n",
      "1 9 26\n",
      "2 10 26\n",
      "3 3 17\n",
      "4 3 25\n",
      "5 4 13\n",
      "6 9 30\n",
      "7 10 24\n",
      "8 1 21\n",
      "9 9 24\n",
      "[29, 26, 26, 17, 25, 13, 30, 24, 21, 24]\n"
     ]
    }
   ],
   "source": [
    "bdays = []\n",
    "bdaysmax = [31, 28, 31,30,31,30,31,31,30,31,30,31]\n",
    "for i in range(10):\n",
    "    realistic = False\n",
    "    while realistic == False:\n",
    "        x = randint(1,32)\n",
    "        print(i,bmonths[i],x)\n",
    "        if x<= bdaysmax[bmonths[i]-1]:\n",
    "            realistic = True        \n",
    "    bdays.append(x)    \n",
    "print(bdays)"
   ]
  },
  {
   "cell_type": "code",
   "execution_count": 16,
   "metadata": {},
   "outputs": [
    {
     "data": {
      "text/plain": [
       "12"
      ]
     },
     "execution_count": 16,
     "metadata": {},
     "output_type": "execute_result"
    }
   ],
   "source": [
    "len(bdaysmax)"
   ]
  },
  {
   "cell_type": "code",
   "execution_count": 17,
   "metadata": {},
   "outputs": [
    {
     "name": "stdout",
     "output_type": "stream",
     "text": [
      "[680, 710, 127, 368, 389, 738, 587, 262, 753, 665] ['Yes', 'Yes', 'No', 'No', 'No', 'Yes', 'No', 'No', 'No', 'Yes']\n"
     ]
    }
   ],
   "source": [
    "CreditScores = []\n",
    "CreditApproval = []\n",
    "for i in range(10):\n",
    "    x = randint(100,800)\n",
    "    CreditScores.append(x)\n",
    "    if x>650 and byears[i]<2004:\n",
    "        CreditApproval.append('Yes')\n",
    "    else:\n",
    "        CreditApproval.append('No')            \n",
    "print(CreditScores,CreditApproval)"
   ]
  },
  {
   "cell_type": "code",
   "execution_count": 18,
   "metadata": {},
   "outputs": [
    {
     "name": "stdout",
     "output_type": "stream",
     "text": [
      "[{'fname': 'Stephen', 'lname': 'Barras', 'byear': 1951, 'bmonth': 3, 'bday': 29, 'Approved': 'Yes'}, {'fname': 'Billy', 'lname': 'Blackwell', 'byear': 1995, 'bmonth': 9, 'bday': 26, 'Approved': 'Yes'}, {'fname': 'Jesse', 'lname': 'Clark', 'byear': 1966, 'bmonth': 10, 'bday': 26, 'Approved': 'No'}, {'fname': 'Erika', 'lname': 'Donegan', 'byear': 1957, 'bmonth': 3, 'bday': 17, 'Approved': 'No'}, {'fname': 'Leah', 'lname': 'Jordan', 'byear': 1962, 'bmonth': 3, 'bday': 25, 'Approved': 'No'}, {'fname': 'Nathan', 'lname': 'Kyle', 'byear': 1954, 'bmonth': 4, 'bday': 13, 'Approved': 'Yes'}, {'fname': 'Penny', 'lname': 'Mcnamara', 'byear': 1959, 'bmonth': 9, 'bday': 30, 'Approved': 'No'}, {'fname': 'Lillian', 'lname': 'Moss', 'byear': 2005, 'bmonth': 10, 'bday': 24, 'Approved': 'No'}, {'fname': 'Richard', 'lname': 'Stark', 'byear': 2013, 'bmonth': 1, 'bday': 21, 'Approved': 'No'}, {'fname': 'Gary', 'lname': 'Vieira', 'byear': 1963, 'bmonth': 9, 'bday': 24, 'Approved': 'Yes'}]\n"
     ]
    }
   ],
   "source": [
    "ourdatabase = []\n",
    "for i in range(10):\n",
    "    person = {}\n",
    "    person['fname'] = fnames[i]\n",
    "    person['lname'] = lnames[i]\n",
    "    person['byear'] = byears[i]\n",
    "    person['bmonth'] = bmonths[i]\n",
    "    person['bday'] = bdays[i]\n",
    "    person['Approved'] = CreditApproval[i]\n",
    "    ourdatabase.append(person)\n",
    "print(ourdatabase)"
   ]
  },
  {
   "cell_type": "code",
   "execution_count": 19,
   "metadata": {},
   "outputs": [],
   "source": [
    "import csv\n",
    "csv_columns = ['fname','lname','byear','bmonth','bday','Approved']\n",
    "csv_file = \"Ergun_HW1.csv\"\n",
    "try:\n",
    "    with open(csv_file, 'w') as csvfile:\n",
    "        writer = csv.DictWriter(csvfile, fieldnames=csv_columns)\n",
    "        writer.writeheader()\n",
    "        for data in ourdatabase:\n",
    "            writer.writerow(data)\n",
    "except IOError:\n",
    "    print(\"I/O error\")"
   ]
  },
  {
   "cell_type": "code",
   "execution_count": 20,
   "metadata": {},
   "outputs": [
    {
     "name": "stdout",
     "output_type": "stream",
     "text": [
      "['fname', 'lname', 'byear', 'bmonth', 'bday', 'Approved']\n",
      "['Stephen', 'Barras', '1951', '3', '29', 'Yes']\n",
      "['Billy', 'Blackwell', '1995', '9', '26', 'Yes']\n",
      "['Jesse', 'Clark', '1966', '10', '26', 'No']\n",
      "['Erika', 'Donegan', '1957', '3', '17', 'No']\n",
      "['Leah', 'Jordan', '1962', '3', '25', 'No']\n",
      "['Nathan', 'Kyle', '1954', '4', '13', 'Yes']\n",
      "['Penny', 'Mcnamara', '1959', '9', '30', 'No']\n",
      "['Lillian', 'Moss', '2005', '10', '24', 'No']\n",
      "['Richard', 'Stark', '2013', '1', '21', 'No']\n",
      "['Gary', 'Vieira', '1963', '9', '24', 'Yes']\n"
     ]
    }
   ],
   "source": [
    "from csv import reader\n",
    "with open('Ergun_HW1.csv', 'r') as read_obj:\n",
    "    csv_reader = reader(read_obj)\n",
    "    for row in csv_reader:\n",
    "        print(row)"
   ]
  },
  {
   "cell_type": "code",
   "execution_count": null,
   "metadata": {},
   "outputs": [],
   "source": []
  }
 ],
 "metadata": {
  "kernelspec": {
   "display_name": "Python 3",
   "language": "python",
   "name": "python3"
  },
  "language_info": {
   "codemirror_mode": {
    "name": "ipython",
    "version": 3
   },
   "file_extension": ".py",
   "mimetype": "text/x-python",
   "name": "python",
   "nbconvert_exporter": "python",
   "pygments_lexer": "ipython3",
   "version": "3.8.8"
  }
 },
 "nbformat": 4,
 "nbformat_minor": 4
}
