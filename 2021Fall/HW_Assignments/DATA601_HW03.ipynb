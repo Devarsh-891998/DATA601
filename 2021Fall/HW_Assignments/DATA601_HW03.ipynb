{
 "cells": [
  {
   "cell_type": "markdown",
   "metadata": {
    "id": "pug-d_jBQE7f"
   },
   "source": [
    "## Homework Assingment 3\n",
    "Note that this assignment created based on the Harvard's Introduction to Data Science course (Lab #2). If you google it, you will find the solution manual, but please do not do that. First, please try to complete this assignment by yourself.\n",
    "Second, please read this entire notebook. I will not grade this homework, I just want your honest feedback (see Q4) <br>\n",
    "\n",
    "For this assignment, you will need to read a csv file (https://raw.githubusercontent.com/simsekergun/DATA601/main/2021Fall/datasets/goodreads.csv)\n",
    "to examine it and do any necessary data cleaning. Descriptions of the columns (in order) present in this csv file are as follows\n",
    "- rating: the average rating on a 1-5 scale achieved by the book\n",
    "- review_count: the number of Goodreads users who reviewed this book\n",
    "- isbn: the ISBN code for the book\n",
    "- booktype: an internal Goodreads identifier for the book\n",
    "- author_url: the Goodreads (relative) URL for the author of the book\n",
    "- year: the year the book was published\n",
    "- genre_urls: a string with '|' separated relative URLS of Goodreads genre pages\n",
    "- dir: a directory identifier internal to the scraping code\n",
    "- rating_count: the number of ratings for this book (this is different from the number of reviews)\n",
    "- name: the name of the book"
   ]
  },
  {
   "cell_type": "markdown",
   "metadata": {
    "id": "B58AOXREQov5"
   },
   "source": [
    "### Q1 (0 points)\n",
    "a. Read the csv file with pandas. Examine the first 3 rows. Do you notice the problem?<br>\n",
    "b. Since this csv file doesn't have column names, re-read the csv file but this time set column names to <br>\n",
    "<code> [\"rating\", 'review_count', 'isbn', 'booktype','author_url', 'year', 'genre_urls', 'dir','rating_count', 'name'] </code><br>\n",
    "Examine the first 3 rows and last 2 rows. <br>\n",
    "c. Determine how many rows and columns do we have. <br>\n",
    "d. Check the types of the columns. Convert <code> review_count</code>, <code> rating_counts </code>, and <code> year </code> to integers. <br>\n",
    "e. Remove all the rows with missing entries (e.g. either empty or NaN). Save your dataframe into a csv file (e.g. 'cleaned_goodreads.csv'). For the rest, work with this cleaned dataframe.  <br>\n"
   ]
  },
  {
   "cell_type": "markdown",
   "metadata": {
    "id": "Ec1LNtRYTZ5z"
   },
   "source": [
    "### Q2 (0 points)\n",
    "a. Notice that the authors' name is available in the <code> author_url </code> column, e.g. Suzanne Collins is the author of the first book and <code> author_url </code> is as follows<br>\n",
    "<code> https://www.goodreads.com/author/show/153394.Suzanne_Collins </code> <br>\n",
    "Write a function which can get the authors' name from <code> author_url </code> for a given row. Notice that the authors' name is right after the \".\" in the last part of the object after the last \"/\". <br>\n",
    "b. Get the authors' names using your own function and pandas' \"apply\" function, create a new column with a column name \"author\" to store the names. <br>\n",
    "c. Do something similar to part (a) of this question to determine unique genres. Note that some books have more than one genre. Again you will need to some splitting and getting only the object after \"/\". <br>\n",
    "d. Display all the science-fiction books whose rating is higher 4.0 and published after 1980. <br>"
   ]
  },
  {
   "cell_type": "markdown",
   "metadata": {
    "id": "zKwrmrtBist3"
   },
   "source": [
    "### Q3 (0 points)\n",
    "We can group our dataframe by any of the variables using pandas \"groupby\" function, e.g. we can group by author by <br>\n",
    "<code> dfgb_author = df.groupby('author') </code> <br>\n",
    "(a) Determine and display 3 authors with the highest number of books. <br>\n",
    "(b) Determine and display the best-rated book(s) for every year in our dataframe. <br>"
   ]
  },
  {
   "cell_type": "markdown",
   "metadata": {
    "id": "qx7BCNJ3l_Kc"
   },
   "source": [
    "### Q4 (20 points)\n",
    "We don't have the exact same questions but you will find the solutions at" "\n" "https://github.com/Harvard-IACS/2018-CS109A/blob/master/content/labs/lab2/notebook/solutions/lab2_pandas_solutions.ipynb <br>\n",
    "\n",
    "With your complete honesty, please let me know how easy/difficult this assignment was. How much time did you spend on it? Were you able to complete all by yourself+google or did you need to look at the solution manual? If it is the latter, please make sure that you understand the solution. Working with dataframes is quite challenging in the beginning, you really need to understand the basics.\n",
    "\n",
    "Please do not send me your notebook, I will not grade your solutions. Please send me your Q4 answer/comments via blackboard."
   ]
  },
  {
   "cell_type": "code",
   "execution_count": null,
   "metadata": {
    "id": "7xwxu_zZkkaS"
   },
   "outputs": [],
   "source": []
  }
 ],
 "metadata": {
  "colab": {
   "authorship_tag": "ABX9TyP6pXEE430sGDwk+K+cM4TJ",
   "collapsed_sections": [],
   "name": "DATA601_HW03.ipynb",
   "provenance": []
  },
  "kernelspec": {
   "display_name": "Python 3",
   "language": "python",
   "name": "python3"
  },
  "language_info": {
   "codemirror_mode": {
    "name": "ipython",
    "version": 3
   },
   "file_extension": ".py",
   "mimetype": "text/x-python",
   "name": "python",
   "nbconvert_exporter": "python",
   "pygments_lexer": "ipython3",
   "version": "3.8.8"
  }
 },
 "nbformat": 4,
 "nbformat_minor": 4
}
