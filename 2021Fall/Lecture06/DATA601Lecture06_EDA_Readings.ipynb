{
 "cells": [
  {
   "cell_type": "markdown",
   "metadata": {
    "id": "euYTsNpWgHka"
   },
   "source": [
    "From [R for data science book](https://r4ds.had.co.nz/exploratory-data-analysis.html) read chapter-7. You can skip all the coding parts. \n",
    "\n",
    "Some of the questions you can ask to yourself as you are reading are:\n",
    "\n",
    "From 7.1:\n",
    "\n",
    "- What are the steps of EDA cycle?\n",
    "- What is EDA?\n",
    "- Tools of EDA?\n",
    "\n",
    "From 7.2:\n",
    "\n",
    "- What is the key to generating good questions?\n",
    "- What are the two types of questions that might be helpful to make discoveries within your data?\n",
    "- Definitions: Variable, variation, value, observation, etc.\n",
    "\n",
    "From 7.3:\n",
    "\n",
    "- When you can get variation?\n",
    "- Why do you think even constant quantities might have variation when they are measured multiple times?\n",
    "- What is a categorical variable?\n",
    "- What is a continuous variable?\n",
    "- What are the ways to visualize categorical and continuous variables?\n",
    "- How do you identify `typical values` in a categorical and numerical values?\n",
    "- What are the outliers?\n",
    "\n",
    "From 7.4:\n",
    "\n",
    "- What are the two ways of dealing with unusual values?\n",
    "\n",
    "From 7.5:\n",
    "\n",
    "- What is covariation?\n",
    "\n",
    "- Explain density, box plot and IQR\n"
   ]
  },
  {
   "cell_type": "code",
   "execution_count": null,
   "metadata": {
    "id": "TwKL_4ulga_v"
   },
   "outputs": [],
   "source": []
  }
 ],
 "metadata": {
  "colab": {
   "name": "W5-EDA-Readings.ipynb",
   "provenance": []
  },
  "kernelspec": {
   "display_name": "Python 3",
   "language": "python",
   "name": "python3"
  },
  "language_info": {
   "codemirror_mode": {
    "name": "ipython",
    "version": 3
   },
   "file_extension": ".py",
   "mimetype": "text/x-python",
   "name": "python",
   "nbconvert_exporter": "python",
   "pygments_lexer": "ipython3",
   "version": "3.8.8"
  }
 },
 "nbformat": 4,
 "nbformat_minor": 4
}
